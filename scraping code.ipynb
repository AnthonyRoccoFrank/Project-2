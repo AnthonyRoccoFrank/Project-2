{
 "cells": [
  {
   "cell_type": "code",
   "execution_count": null,
   "metadata": {},
   "outputs": [],
   "source": [
    "from splinter import Browser\n",
    "from bs4 import BeautifulSoup\n",
    "from webdriver_manager.chrome import ChromeDriverManager"
   ]
  },
  {
   "cell_type": "code",
   "execution_count": null,
   "metadata": {},
   "outputs": [],
   "source": [
    "executable_path = {'executable_path': ChromeDriverManager().install()}\n",
    "browser = Browser('chrome', **executable_path, headless=False)"
   ]
  },
  {
   "cell_type": "code",
   "execution_count": null,
   "metadata": {},
   "outputs": [],
   "source": [
    "url = 'https://bestsellingalbums.org/overall/'\n",
    "album_data = {\n",
    "    'rank' : [],\n",
    "    'title' : [],\n",
    "    'artist' : [],\n",
    "    'sales' : []\n",
    "}\n",
    "browser.visit(url)"
   ]
  },
  {
   "cell_type": "code",
   "execution_count": 4,
   "metadata": {},
   "outputs": [
    {
     "name": "stdout",
     "output_type": "stream",
     "text": [
      "-----------\n",
      "1361\n",
      "MY LIFE\n",
      "MARY J. BLIGE\n",
      "Sales: 3,150,000\n",
      "Scraping Complete\n",
      "-----------\n",
      "1362\n",
      "THE COMFORT ZONE\n",
      "VANESSA WILLIAMS\n",
      "Sales: 3,150,000\n",
      "-----------\n",
      "1363\n",
      "STRAIGHT SHOOTER\n",
      "BAD COMPANY\n",
      "Sales: 3,150,000\n",
      "-----------\n",
      "1364\n",
      "HAPPY PEOPLE / U SAVED ME\n",
      "R. KELLY\n",
      "Sales: 3,146,156\n",
      "-----------\n",
      "1365\n",
      "LEANDRO & LEONARDO 4\n",
      "LEANDRO & LEONARDO\n",
      "Sales: 3,145,814\n"
     ]
    }
   ],
   "source": [
    "\n",
    "# Iterate through all pages\n",
    "for x in range(5):\n",
    "    # HTML object\n",
    "    html = browser.html\n",
    "    # Parse HTML with Beautiful Soup\n",
    "    soup = BeautifulSoup(html, 'html.parser')\n",
    "    # Retrieve all elements that contain book information\n",
    "    albums = soup.find_all('div', class_='album_card')\n",
    "    # Iterate through each book\n",
    "    for album in albums:\n",
    "\n",
    "        try:\n",
    "            rank = album.find('div', class_='rank').text\n",
    "            title = album.find('div', class_='album').text\n",
    "            artist = album.find('div', class_='artist').text\n",
    "            sales = album.find('div', class_='sales').text\n",
    "        \n",
    "            print('-----------')\n",
    "            print(rank)\n",
    "            print(title)\n",
    "            print(artist)\n",
    "            print(sales)\n",
    "\n",
    "        except:\n",
    "            print(\"Scraping Complete\")\n",
    "\n",
    "        try:\n",
    "                browser.links.find_by_partial_text('next').click()\n",
    "        except:\n",
    "                print(\"Scraping Complete\")\n",
    "   \n",
    "    \n",
    "browser.quit()"
   ]
  },
  {
   "cell_type": "code",
   "execution_count": null,
   "metadata": {},
   "outputs": [],
   "source": []
  }
 ],
 "metadata": {
  "kernelspec": {
   "display_name": "base",
   "language": "python",
   "name": "python3"
  },
  "language_info": {
   "codemirror_mode": {
    "name": "ipython",
    "version": 3
   },
   "file_extension": ".py",
   "mimetype": "text/x-python",
   "name": "python",
   "nbconvert_exporter": "python",
   "pygments_lexer": "ipython3",
   "version": "3.9.12"
  },
  "varInspector": {
   "cols": {
    "lenName": 16,
    "lenType": 16,
    "lenVar": 40
   },
   "kernels_config": {
    "python": {
     "delete_cmd_postfix": "",
     "delete_cmd_prefix": "del ",
     "library": "var_list.py",
     "varRefreshCmd": "print(var_dic_list())"
    },
    "r": {
     "delete_cmd_postfix": ") ",
     "delete_cmd_prefix": "rm(",
     "library": "var_list.r",
     "varRefreshCmd": "cat(var_dic_list()) "
    }
   },
   "types_to_exclude": [
    "module",
    "function",
    "builtin_function_or_method",
    "instance",
    "_Feature"
   ],
   "window_display": false
  },
  "vscode": {
   "interpreter": {
    "hash": "a9db9a8f3bd6f4fd814955456aa0a033bc70c6b9c761778ab001a35565123bbf"
   }
  }
 },
 "nbformat": 4,
 "nbformat_minor": 2
}
